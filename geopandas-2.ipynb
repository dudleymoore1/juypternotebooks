{
 "cells": [
  {
   "cell_type": "code",
   "execution_count": 62,
   "id": "450f23d5-da6e-487b-9db3-873945afe9f0",
   "metadata": {},
   "outputs": [],
   "source": [
    "import pandas as pd\n",
    "import geopandas as gpd\n",
    "import numpy as np\n",
    "import csv\n",
    "import matplotlib.pyplot as plt\n",
    "%matplotlib inline"
   ]
  },
  {
   "cell_type": "code",
   "execution_count": 63,
   "id": "8942e0ac-1d04-4613-be6b-dd2a5eed9779",
   "metadata": {},
   "outputs": [],
   "source": [
    "usa = gpd.read_file('geo_export_29302501-c06c-43d7-8ef0-e3f008fccd63.shp')\n",
    "\n"
   ]
  },
  {
   "cell_type": "code",
   "execution_count": 64,
   "id": "0112c820-bc9c-4d05-9fd2-72f641a06f3e",
   "metadata": {},
   "outputs": [],
   "source": [
    "def state_Plotter(states, us_map = True):\n",
    "    \n",
    "\n",
    "    fig, ax = plt.subplots(figsize=(30, 30))\n",
    " \n",
    "    if us_map: #Executes if us_map is set to true.\n",
    "        if 'HI' in states:\n",
    "            usa[0:50].plot(ax=ax, alpha = 0.3)\n",
    "            \n",
    "        elif 'AK' in states:\n",
    "            usa[1:51].plot(ax=ax,alpha = 0.3)\n",
    "            \n",
    "        elif 'AK' and 'HI' in states:\n",
    "            usa[0:51].plot(ax = ax, alpha = 0.3)\n",
    "            \n",
    "        else:\n",
    "            usa[1:50].plot(ax=ax, alpha = 0.3)\n",
    "            \n",
    "        for n in states:\n",
    "            usa[usa.state_abbr == f'{n}'].plot(ax=ax, edgecolor = 'y', linewidth = 2)\n",
    "            \n",
    "    elif us_map == False:\n",
    "        for n in states:\n",
    "            usa[usa.state_abbr == f'{n}'].plot(ax=ax, edgecolor = 'y', linewidth = 2)"
   ]
  },
  {
   "cell_type": "code",
   "execution_count": 65,
   "id": "6dacea69-6bb4-44b1-9c7e-2960c2f81185",
   "metadata": {},
   "outputs": [
    {
     "name": "stdout",
     "output_type": "stream",
     "text": [
      "['AL ', ' 92']\n",
      "['AK', ' 0']\n",
      "['AZ', ' 6']\n",
      "['AR', ' 24']\n",
      "['CA', ' 5']\n",
      "['CO', ' 48']\n",
      "['CT', ' 4']\n",
      "['DE', '2']\n",
      "['FL', ' 27']\n",
      "['GA', ' 43']\n",
      "['HI', '0']\n",
      "['ID', '0']\n",
      "['IL', '67']\n",
      "['IN', '18']\n",
      "['IA', '53']\n",
      "['KS', '44']\n",
      "['KY', '14']\n",
      "['LA', '41']\n",
      "['ME', '0']\n",
      "['MD', '11']\n",
      "['MA', '7']\n",
      "['MI', '17']\n",
      "['MN', '27']\n",
      "['MS', '87']\n",
      "['MO', '21']\n",
      "['MT', '1']\n",
      "['NE', '23']\n",
      "['NV', '3']\n",
      "['NH', '0']\n",
      "['NJ', '13']\n",
      "['NM', '18']\n",
      "['NY', '5']\n",
      "['NC', '19']\n",
      "['ND', '20']\n",
      "['OH', '25']\n",
      "['OK', '33']\n",
      "['OR', '0']\n",
      "['PA', '37']\n",
      "['RI', '0']\n",
      "['SC', '24']\n",
      "['SD', '19']\n",
      "['TN', '32']\n",
      "['TX', '110']\n",
      "['UT', '4']\n",
      "['VT', '2']\n",
      "['VA', '9']\n",
      "['WA', '2']\n",
      "['WV', '2']\n",
      "['WI', '25']\n",
      "['WY', '2']\n",
      "['DC', '2']\n",
      "[['AK', ' 0'], ['AL ', ' 92'], ['AR', ' 24'], ['AZ', ' 6'], ['CA', ' 5'], ['CO', ' 48'], ['CT', ' 4'], ['DC', '2'], ['DE', '2'], ['FL', ' 27'], ['GA', ' 43'], ['HI', '0'], ['IA', '53'], ['ID', '0'], ['IL', '67'], ['IN', '18'], ['KS', '44'], ['KY', '14'], ['LA', '41'], ['MA', '7'], ['MD', '11'], ['ME', '0'], ['MI', '17'], ['MN', '27'], ['MO', '21'], ['MS', '87'], ['MT', '1'], ['NC', '19'], ['ND', '20'], ['NE', '23'], ['NH', '0'], ['NJ', '13'], ['NM', '18'], ['NV', '3'], ['NY', '5'], ['OH', '25'], ['OK', '33'], ['OR', '0'], ['PA', '37'], ['RI', '0'], ['SC', '24'], ['SD', '19'], ['TN', '32'], ['TX', '110'], ['UT', '4'], ['VA', '9'], ['VT', '2'], ['WA', '2'], ['WI', '25'], ['WV', '2'], ['WY', '2']]\n"
     ]
    }
   ],
   "source": [
    "line = list()\n",
    "with open('state_tornados.csv', mode ='r')as file:\n",
    "   \n",
    "  # reading the CSV file\n",
    "  csvFile = csv.reader(file)\n",
    " \n",
    "  # displaying the contents of the CSV file\n",
    "  for lines in csvFile:\n",
    "        line.append(lines)\n",
    "        print(lines)\n",
    "type(lines)        \n",
    "line.sort()\n",
    "print(line)"
   ]
  },
  {
   "cell_type": "code",
   "execution_count": 66,
   "id": "562ece6e-3df0-4406-afc9-f1c3c2071a64",
   "metadata": {},
   "outputs": [
    {
     "name": "stdout",
     "output_type": "stream",
     "text": [
      " 0\n"
     ]
    }
   ],
   "source": [
    "print(line[0][1])\n",
    "\n",
    "torna = np.zeros(len(line))\n",
    "\n",
    "for i in range(len(line)):\n",
    "    t = line[i][1]\n",
    "    torna[i] = t\n",
    "usa.sort_values('state_abbr', ignore_index=True,inplace=True)\n",
    "\n",
    "usa['Tornado'] = torna"
   ]
  },
  {
   "cell_type": "code",
   "execution_count": 67,
   "id": "b64c1bcc-0dd7-4258-8c56-bbc9529b0aec",
   "metadata": {},
   "outputs": [
    {
     "data": {
      "text/html": [
       "<div>\n",
       "<style scoped>\n",
       "    .dataframe tbody tr th:only-of-type {\n",
       "        vertical-align: middle;\n",
       "    }\n",
       "\n",
       "    .dataframe tbody tr th {\n",
       "        vertical-align: top;\n",
       "    }\n",
       "\n",
       "    .dataframe thead th {\n",
       "        text-align: right;\n",
       "    }\n",
       "</style>\n",
       "<table border=\"1\" class=\"dataframe\">\n",
       "  <thead>\n",
       "    <tr style=\"text-align: right;\">\n",
       "      <th></th>\n",
       "      <th>drawseq</th>\n",
       "      <th>state_abbr</th>\n",
       "      <th>state_fips</th>\n",
       "      <th>state_name</th>\n",
       "      <th>sub_region</th>\n",
       "      <th>geometry</th>\n",
       "      <th>Tornado</th>\n",
       "    </tr>\n",
       "  </thead>\n",
       "  <tbody>\n",
       "    <tr>\n",
       "      <th>1</th>\n",
       "      <td>43.0</td>\n",
       "      <td>AL</td>\n",
       "      <td>01</td>\n",
       "      <td>Alabama</td>\n",
       "      <td>East South Central</td>\n",
       "      <td>POLYGON ((-85.07007 31.98070, -85.11515 31.907...</td>\n",
       "      <td>92.0</td>\n",
       "    </tr>\n",
       "    <tr>\n",
       "      <th>2</th>\n",
       "      <td>47.0</td>\n",
       "      <td>AR</td>\n",
       "      <td>05</td>\n",
       "      <td>Arkansas</td>\n",
       "      <td>West South Central</td>\n",
       "      <td>POLYGON ((-94.46169 34.19677, -94.45262 34.508...</td>\n",
       "      <td>24.0</td>\n",
       "    </tr>\n",
       "    <tr>\n",
       "      <th>3</th>\n",
       "      <td>37.0</td>\n",
       "      <td>AZ</td>\n",
       "      <td>04</td>\n",
       "      <td>Arizona</td>\n",
       "      <td>Mountain</td>\n",
       "      <td>POLYGON ((-114.52063 33.02771, -114.55909 33.0...</td>\n",
       "      <td>6.0</td>\n",
       "    </tr>\n",
       "    <tr>\n",
       "      <th>4</th>\n",
       "      <td>25.0</td>\n",
       "      <td>CA</td>\n",
       "      <td>06</td>\n",
       "      <td>California</td>\n",
       "      <td>Pacific</td>\n",
       "      <td>MULTIPOLYGON (((-121.66522 38.16929, -121.7823...</td>\n",
       "      <td>5.0</td>\n",
       "    </tr>\n",
       "    <tr>\n",
       "      <th>5</th>\n",
       "      <td>32.0</td>\n",
       "      <td>CO</td>\n",
       "      <td>08</td>\n",
       "      <td>Colorado</td>\n",
       "      <td>Mountain</td>\n",
       "      <td>POLYGON ((-102.04446 37.64147, -102.04201 37.3...</td>\n",
       "      <td>48.0</td>\n",
       "    </tr>\n",
       "  </tbody>\n",
       "</table>\n",
       "</div>"
      ],
      "text/plain": [
       "   drawseq state_abbr state_fips  state_name          sub_region  \\\n",
       "1     43.0         AL         01     Alabama  East South Central   \n",
       "2     47.0         AR         05    Arkansas  West South Central   \n",
       "3     37.0         AZ         04     Arizona            Mountain   \n",
       "4     25.0         CA         06  California             Pacific   \n",
       "5     32.0         CO         08    Colorado            Mountain   \n",
       "\n",
       "                                            geometry  Tornado  \n",
       "1  POLYGON ((-85.07007 31.98070, -85.11515 31.907...     92.0  \n",
       "2  POLYGON ((-94.46169 34.19677, -94.45262 34.508...     24.0  \n",
       "3  POLYGON ((-114.52063 33.02771, -114.55909 33.0...      6.0  \n",
       "4  MULTIPOLYGON (((-121.66522 38.16929, -121.7823...      5.0  \n",
       "5  POLYGON ((-102.04446 37.64147, -102.04201 37.3...     48.0  "
      ]
     },
     "execution_count": 67,
     "metadata": {},
     "output_type": "execute_result"
    }
   ],
   "source": [
    "usa=usa.drop(usa.index[0])\n",
    "usa.head()"
   ]
  },
  {
   "cell_type": "code",
   "execution_count": 84,
   "id": "d8f415e7-b1a1-4a9d-841d-e75888082914",
   "metadata": {},
   "outputs": [
    {
     "data": {
      "text/plain": [
       "<AxesSubplot:>"
      ]
     },
     "execution_count": 84,
     "metadata": {},
     "output_type": "execute_result"
    },
    {
     "data": {
      "image/png": "[encoded data removed]",
      "text/plain": [
       "<Figure size 432x288 with 2 Axes>"
      ]
     },
     "metadata": {
      "needs_background": "light"
     },
     "output_type": "display_data"
    }
   ],
   "source": [
    "fig, ax = plt.subplots()\n",
    "usa.plot(column = \"Tornado\", ax=ax,figsize=(80, 30), cmap=\"plasma\",legend = True)\n"
   ]
  },
  {
   "cell_type": "code",
   "execution_count": null,
   "id": "3392b9d5-e873-4639-b132-c2a7e9e57f00",
   "metadata": {},
   "outputs": [],
   "source": []
  }
 ],
 "metadata": {
  "kernelspec": {
   "display_name": "Python 3 (ipykernel)",
   "language": "python",
   "name": "python3"
  },
  "language_info": {
   "codemirror_mode": {
    "name": "ipython",
    "version": 3
   },
   "file_extension": ".py",
   "mimetype": "text/x-python",
   "name": "python",
   "nbconvert_exporter": "python",
   "pygments_lexer": "ipython3",
   "version": "3.7.10"
  }
 },
 "nbformat": 4,
 "nbformat_minor": 5
}
