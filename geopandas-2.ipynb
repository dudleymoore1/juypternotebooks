{
 "cells": [
  {
   "cell_type": "code",
   "execution_count": 2,
   "id": "450f23d5-da6e-487b-9db3-873945afe9f0",
   "metadata": {},
   "outputs": [],
   "source": [
    "import pandas as pd\n",
    "import geopandas as gpd\n",
    "import numpy as np\n",
    "import csv\n",
    "import matplotlib.pyplot as plt\n",
    "%matplotlib inline"
   ]
  },
  {
   "cell_type": "code",
   "execution_count": 3,
   "id": "8942e0ac-1d04-4613-be6b-dd2a5eed9779",
   "metadata": {},
   "outputs": [],
   "source": [
    "usa = gpd.read_file('geo_export_29302501-c06c-43d7-8ef0-e3f008fccd63.shp')\n",
    "\n"
   ]
  },
  {
   "cell_type": "code",
   "execution_count": 4,
   "id": "0112c820-bc9c-4d05-9fd2-72f641a06f3e",
   "metadata": {},
   "outputs": [],
   "source": [
    "def state_Plotter(states, us_map = True):\n",
    "    \n",
    "\n",
    "    fig, ax = plt.subplots(figsize=(30, 30))\n",
    " \n",
    "    if us_map: #Executes if us_map is set to true.\n",
    "        if 'HI' in states:\n",
    "            usa[0:50].plot(ax=ax, alpha = 0.3)\n",
    "            \n",
    "        elif 'AK' in states:\n",
    "            usa[1:51].plot(ax=ax,alpha = 0.3)\n",
    "            \n",
    "        elif 'AK' and 'HI' in states:\n",
    "            usa[0:51].plot(ax = ax, alpha = 0.3)\n",
    "            \n",
    "        else:\n",
    "            usa[1:50].plot(ax=ax, alpha = 0.3)\n",
    "            \n",
    "        for n in states:\n",
    "            usa[usa.state_abbr == f'{n}'].plot(ax=ax, edgecolor = 'y', linewidth = 2)\n",
    "            \n",
    "    elif us_map == False:\n",
    "        for n in states:\n",
    "            usa[usa.state_abbr == f'{n}'].plot(ax=ax, edgecolor = 'y', linewidth = 2)"
   ]
  },
  {
   "cell_type": "code",
   "execution_count": 24,
   "id": "6dacea69-6bb4-44b1-9c7e-2960c2f81185",
   "metadata": {},
   "outputs": [
    {
     "name": "stdout",
     "output_type": "stream",
     "text": [
      "['AL ', ' 92\\\\']\n",
      "['AK', ' 0\\\\']\n",
      "['AZ', ' 6\\\\']\n",
      "['AR', ' 24\\\\']\n",
      "['CA', ' 5\\\\']\n",
      "['CO', ' 48\\\\']\n",
      "['CT', ' 4\\\\']\n",
      "['DE', '2\\\\']\n",
      "['FL', ' 27\\\\']\n",
      "['GA', ' 43\\\\']\n",
      "['HI', '0\\\\']\n",
      "['ID', '0\\\\']\n",
      "['IL', '67\\\\']\n",
      "['IN', '18\\\\']\n",
      "['IA', '53\\\\']\n",
      "['KS', '44\\\\']\n",
      "['KY', '14\\\\']\n",
      "['LA', '41\\\\']\n",
      "['ME', '0\\\\']\n",
      "['MD', '11\\\\']\n",
      "['MA', '7\\\\']\n",
      "['MI', '17\\\\']\n",
      "['MN', '27\\\\']\n",
      "['MS', '87\\\\']\n",
      "['MO', '21\\\\']\n",
      "['MT', '1\\\\']\n",
      "['NE', '23\\\\']\n",
      "['NV', '3\\\\']\n",
      "['NH', '0\\\\']\n",
      "['NJ', '13\\\\']\n",
      "['NM', '18\\\\']\n",
      "['NY', '5\\\\']\n",
      "['NC', '19\\\\']\n",
      "['ND', '20\\\\']\n",
      "['OH', '25\\\\']\n",
      "['OK', '33\\\\']\n",
      "['OR', '0\\\\']\n",
      "['PA', '37\\\\']\n",
      "['RI', '0\\\\']\n",
      "['SC', '24\\\\']\n",
      "['SD', '19\\\\']\n",
      "['TN', '32\\\\']\n",
      "['TX', '110\\\\']\n",
      "['UT', '4\\\\']\n",
      "['VT', '2\\\\']\n",
      "['VA', '9\\\\']\n",
      "['WA', '2\\\\']\n",
      "['WV', '2\\\\']\n",
      "['WI', '25\\\\']\n",
      "['WY', '2\\\\']\n",
      "['DC', '2}']\n",
      "<_csv.reader object at 0x7f9bb1623f50>\n"
     ]
    }
   ],
   "source": [
    "line = list()\n",
    "with open('state_tornados.csv', mode ='r')as file:\n",
    "   \n",
    "  # reading the CSV file\n",
    "  csvFile = csv.reader(file)\n",
    " \n",
    "  # displaying the contents of the CSV file\n",
    "  for lines in csvFile:\n",
    "        line.append(lines)\n",
    "        print(lines)\n",
    "        \n"
   ]
  },
  {
   "cell_type": "code",
   "execution_count": 34,
   "id": "562ece6e-3df0-4406-afc9-f1c3c2071a64",
   "metadata": {},
   "outputs": [
    {
     "name": "stdout",
     "output_type": "stream",
     "text": [
      " 92\\\n"
     ]
    }
   ],
   "source": [
    "print(line[0][1])"
   ]
  },
  {
   "cell_type": "code",
   "execution_count": null,
   "id": "b64c1bcc-0dd7-4258-8c56-bbc9529b0aec",
   "metadata": {},
   "outputs": [],
   "source": []
  }
 ],
 "metadata": {
  "kernelspec": {
   "display_name": "Python 3 (ipykernel)",
   "language": "python",
   "name": "python3"
  },
  "language_info": {
   "codemirror_mode": {
    "name": "ipython",
    "version": 3
   },
   "file_extension": ".py",
   "mimetype": "text/x-python",
   "name": "python",
   "nbconvert_exporter": "python",
   "pygments_lexer": "ipython3",
   "version": "3.7.10"
  }
 },
 "nbformat": 4,
 "nbformat_minor": 5
}
